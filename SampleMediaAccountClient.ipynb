{
 "cells": [
  {
   "cell_type": "code",
   "execution_count": null,
   "id": "0de2b56b-f2b9-4cf1-9505-ee2374a63dbd",
   "metadata": {},
   "outputs": [],
   "source": [
    "# Imports\n",
    "!pip install requests icecream"
   ]
  },
  {
   "cell_type": "code",
   "execution_count": null,
   "id": "492c96d2-b386-4afa-ab1f-e01a5065fe37",
   "metadata": {},
   "outputs": [],
   "source": [
    "# Models\n",
    "\n",
    "from dataclasses import dataclass\n",
    "from dataclasses_json import dataclass_json, Undefined\n",
    "from typing import List\n",
    "\n",
    "@dataclass_json(undefined=Undefined.EXCLUDE)\n",
    "@dataclass\n",
    "class Article:\n",
    "    Id : int\n",
    "    MedienblattId : int\n",
    "    MedienblattLink : str\n",
    "\n",
    "\n",
    "# aktuell unbenutzt\n",
    "@dataclass\n",
    "@dataclass_json(undefined=Undefined.EXCLUDE)\n",
    "class ArticleResponse:\n",
    "    Items: List\n",
    "    NextPageLink: str\n",
    "    Count: int\n",
    "\n",
    "        "
   ]
  },
  {
   "cell_type": "code",
   "execution_count": null,
   "id": "bed32854-c610-4341-84c6-824b8c1f7646",
   "metadata": {},
   "outputs": [],
   "source": [
    "from icecream import ic\n",
    "\n",
    "maBase = 'http://api.media-account.de/api/v2/articles'\n",
    "headers = {'api_key': 'K4NSZWA5Y9XPB64Q4EW1'}\n",
    "\n",
    "# Request\n",
    "params = {'typ' : 'Importdatum'}\n",
    "r = requests.get(maBase, params = params, headers = headers)\n",
    "r.status_code\n",
    "\n",
    "responseData = r.json()\n",
    "nextPageLink = responseData['NextPageLink']\n",
    "articles = list(map(lambda x: Article.from_dict(x), responseData['Items']))\n",
    "count = responseData['Count']\n",
    "\n",
    "ic(articles[0])"
   ]
  }
 ],
 "metadata": {
  "kernelspec": {
   "display_name": "Python 3 (ipykernel)",
   "language": "python",
   "name": "python3"
  },
  "language_info": {
   "codemirror_mode": {
    "name": "ipython",
    "version": 3
   },
   "file_extension": ".py",
   "mimetype": "text/x-python",
   "name": "python",
   "nbconvert_exporter": "python",
   "pygments_lexer": "ipython3",
   "version": "3.8.10"
  }
 },
 "nbformat": 4,
 "nbformat_minor": 5
}
